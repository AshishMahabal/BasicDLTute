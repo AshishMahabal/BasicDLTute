{
  "nbformat": 4,
  "nbformat_minor": 0,
  "metadata": {
    "colab": {
      "name": "BasicDL.ipynb",
      "provenance": [],
      "collapsed_sections": []
    },
    "kernelspec": {
      "name": "python3",
      "display_name": "Python 3"
    },
    "accelerator": "GPU"
  },
  "cells": [
    {
      "cell_type": "markdown",
      "metadata": {
        "id": "-41Tf8ODUyyi",
        "colab_type": "text"
      },
      "source": [
        "**Deep Learning Examples**\n",
        "\n",
        "Lecturer: Ashish Mahabal\n",
        "\n",
        "Jupyter Notebook Author: Kaushal Sharma, modified by Ashish Mahabal.\n",
        "\n",
        "This is a Jupyter notebook lesson extending the deep learning workshop at the Astronomical Society of India, Annual meeting, 2018 and adapted for the NARIT-EACOA 2019 summer workshop, further modified for 7BISS (2020).\n",
        "\n",
        "**Objective**\n",
        "\n",
        "Introduce the user to deep learning using Python.\n",
        "\n",
        "**Key steps**\n",
        "* Run a model for few epochs\n",
        "\n",
        "**Required dependencies**\n",
        "\n",
        "Nominally, you should be able to install the python modules with pip install <module>. The external astromatic packages are easiest installed using package managers (e.g., rpm, apt-get).\n",
        "\n",
        "Python modules\n",
        "python 3\n",
        "* tensorflow\n",
        "* numpy\n",
        "* matplotlib\n",
        "* scikit-learn\n",
        "\n",
        "External packages\n",
        "\n",
        "None"
      ]
    },
    {
      "cell_type": "markdown",
      "metadata": {
        "id": "ZnN0ngoVViHg",
        "colab_type": "text"
      },
      "source": [
        "**Exercise 1: Using Neural network for more rigorous training**\n",
        "\n",
        "Train the neural network on different colors for classifying to check if other colors can help.# New Section"
      ]
    },
    {
      "cell_type": "code",
      "metadata": {
        "id": "lY2l7m4WGylj",
        "colab_type": "code",
        "colab": {
          "base_uri": "https://localhost:8080/",
          "height": 35
        },
        "outputId": "ea50f549-b1d5-4d20-f03e-e89f179586d4"
      },
      "source": [
        "from google.colab import drive\n",
        "drive.mount('/content/drive')"
      ],
      "execution_count": 21,
      "outputs": [
        {
          "output_type": "stream",
          "text": [
            "Drive already mounted at /content/drive; to attempt to forcibly remount, call drive.mount(\"/content/drive\", force_remount=True).\n"
          ],
          "name": "stdout"
        }
      ]
    },
    {
      "cell_type": "code",
      "metadata": {
        "id": "GssFs5fZI5TV",
        "colab_type": "code",
        "colab": {}
      },
      "source": [
        "# Change the path below depending on where you have put the files\n",
        "import sys\n",
        "datapath = '/content/drive/My Drive/Work/Teaching/UCR202002/data/'\n",
        "sys.path.insert(1, datapath)"
      ],
      "execution_count": 22,
      "outputs": []
    },
    {
      "cell_type": "code",
      "metadata": {
        "id": "N4sRKiUtRwDT",
        "colab_type": "code",
        "colab": {}
      },
      "source": [
        "import pandas as pd\n",
        "import numpy as np\n",
        "from sklearn.metrics import accuracy_score\n",
        "import matplotlib as mpl\n",
        "import matplotlib.pyplot as plt\n",
        "import matplotlib.ticker as ticker\n",
        "\n",
        "%matplotlib inline"
      ],
      "execution_count": 23,
      "outputs": []
    },
    {
      "cell_type": "code",
      "metadata": {
        "id": "_bL5EaYJRw86",
        "colab_type": "code",
        "colab": {
          "base_uri": "https://localhost:8080/",
          "height": 52
        },
        "outputId": "5de1e13f-0ebe-4d8d-9893-ff748a98772b"
      },
      "source": [
        "# Read the files and prepare training and test matrices\n",
        "color_data = pd.read_csv(datapath + \"train_colors.csv\")\n",
        "\n",
        "# Calculate dereddended colors\n",
        "u_g = color_data['dered_u'] - color_data['dered_g']\n",
        "g_r = color_data['dered_g'] - color_data['dered_r']\n",
        "r_i = color_data['dered_r'] - color_data['dered_i']\n",
        "i_z = color_data['dered_i'] - color_data['dered_z']\n",
        "\n",
        "# Combine the columns generated with the original data frame\n",
        "color_data['u_g'] = u_g.values\n",
        "color_data['g_r'] = g_r.values\n",
        "color_data['r_i'] = r_i.values\n",
        "color_data['i_z'] = i_z.values\n",
        "\n",
        "train_in_colors = np.column_stack((u_g.values, g_r.values, r_i.values, i_z.values))\n",
        "train_out_colors = np.array(color_data['spiral'])\n",
        "\n",
        "# Testing data\n",
        "color_test_data = pd.read_csv(datapath + \"test_colors.csv\")\n",
        "\n",
        "# Calculate dereddended colors\n",
        "tu_g = color_test_data['dered_u'] - color_test_data['dered_g']\n",
        "tg_r = color_test_data['dered_g'] - color_test_data['dered_r']\n",
        "tr_i = color_test_data['dered_r'] - color_test_data['dered_i']\n",
        "ti_z = color_test_data['dered_i'] - color_test_data['dered_z']\n",
        "\n",
        "# Prepare test matrix and expected output\n",
        "test_in_colors = np.column_stack((tu_g.values, tg_r.values, tr_i.values, ti_z.values))\n",
        "test_out_colors = np.array(color_test_data['spiral'])\n",
        "\n",
        "print(\"Size of the training matrix: \", np.shape(train_in_colors), np.shape(train_out_colors))\n",
        "print(\"Size of the test matrix:     \", np.shape(test_in_colors), np.shape(test_out_colors))"
      ],
      "execution_count": 24,
      "outputs": [
        {
          "output_type": "stream",
          "text": [
            "Size of the training matrix:  (3000, 4) (3000,)\n",
            "Size of the test matrix:      (1000, 4) (1000,)\n"
          ],
          "name": "stdout"
        }
      ]
    },
    {
      "cell_type": "code",
      "metadata": {
        "id": "GQBXsShHSF5l",
        "colab_type": "code",
        "colab": {}
      },
      "source": [
        "import tensorflow as tf\n",
        "from tensorflow.keras.models import Sequential\n",
        "from tensorflow.keras.layers import Dense\n",
        "from sklearn.model_selection import StratifiedKFold\n",
        "from tensorflow.keras.utils import plot_model\n",
        "import pydot"
      ],
      "execution_count": 25,
      "outputs": []
    },
    {
      "cell_type": "code",
      "metadata": {
        "id": "GVdMpCBpSROV",
        "colab_type": "code",
        "colab": {
          "base_uri": "https://localhost:8080/",
          "height": 1000
        },
        "outputId": "490c210d-00ba-4f9a-9e0f-c802be2445a1"
      },
      "source": [
        "# fix random seed for reproducibility\n",
        "seed = 7\n",
        "np.random.seed(seed)\n",
        "\n",
        "# Design a neural network\n",
        "model = Sequential()\n",
        "model.add(Dense(8, input_dim=4, activation='relu'))\n",
        "model.add(Dense(3, activation='relu'))\n",
        "model.add(Dense(1, activation='sigmoid'))\n",
        "\n",
        "# Compile model\n",
        "model.compile(loss='binary_crossentropy', optimizer='adam', metrics=['accuracy'])\n",
        "model.summary()\n",
        "plot_model(model, to_file=datapath + 'model.png', show_shapes=True, show_layer_names=True)\n",
        "\n",
        "# Fit the model\n",
        "model_info = model.fit(train_in_colors, train_out_colors, epochs=150, batch_size=10, validation_split=0.3, \n",
        "                       shuffle=True, verbose=2)\n",
        "# evaluate the model\n",
        "scores = model.evaluate(train_in_colors, train_out_colors)\n",
        "print(\"\\n%s: %.2f%%\" % (model.metrics_names[1], scores[1]*100))"
      ],
      "execution_count": 26,
      "outputs": [
        {
          "output_type": "stream",
          "text": [
            "Model: \"sequential_4\"\n",
            "_________________________________________________________________\n",
            "Layer (type)                 Output Shape              Param #   \n",
            "=================================================================\n",
            "dense_11 (Dense)             (None, 8)                 40        \n",
            "_________________________________________________________________\n",
            "dense_12 (Dense)             (None, 3)                 27        \n",
            "_________________________________________________________________\n",
            "dense_13 (Dense)             (None, 1)                 4         \n",
            "=================================================================\n",
            "Total params: 71\n",
            "Trainable params: 71\n",
            "Non-trainable params: 0\n",
            "_________________________________________________________________\n",
            "Epoch 1/150\n",
            "210/210 - 1s - loss: 0.6979 - accuracy: 0.4567 - val_loss: 0.6948 - val_accuracy: 0.4567\n",
            "Epoch 2/150\n",
            "210/210 - 0s - loss: 0.6880 - accuracy: 0.5981 - val_loss: 0.6874 - val_accuracy: 0.6078\n",
            "Epoch 3/150\n",
            "210/210 - 0s - loss: 0.6797 - accuracy: 0.6819 - val_loss: 0.6749 - val_accuracy: 0.7078\n",
            "Epoch 4/150\n",
            "210/210 - 0s - loss: 0.6685 - accuracy: 0.7052 - val_loss: 0.6590 - val_accuracy: 0.7156\n",
            "Epoch 5/150\n",
            "210/210 - 1s - loss: 0.6536 - accuracy: 0.7057 - val_loss: 0.6408 - val_accuracy: 0.7289\n",
            "Epoch 6/150\n",
            "210/210 - 1s - loss: 0.6361 - accuracy: 0.7200 - val_loss: 0.6187 - val_accuracy: 0.7344\n",
            "Epoch 7/150\n",
            "210/210 - 1s - loss: 0.6157 - accuracy: 0.7286 - val_loss: 0.5927 - val_accuracy: 0.7444\n",
            "Epoch 8/150\n",
            "210/210 - 0s - loss: 0.5927 - accuracy: 0.7410 - val_loss: 0.5731 - val_accuracy: 0.7522\n",
            "Epoch 9/150\n",
            "210/210 - 0s - loss: 0.5712 - accuracy: 0.7514 - val_loss: 0.5507 - val_accuracy: 0.7678\n",
            "Epoch 10/150\n",
            "210/210 - 0s - loss: 0.5498 - accuracy: 0.7643 - val_loss: 0.5261 - val_accuracy: 0.7656\n",
            "Epoch 11/150\n",
            "210/210 - 0s - loss: 0.5310 - accuracy: 0.7724 - val_loss: 0.5093 - val_accuracy: 0.7778\n",
            "Epoch 12/150\n",
            "210/210 - 0s - loss: 0.5132 - accuracy: 0.7876 - val_loss: 0.4891 - val_accuracy: 0.7744\n",
            "Epoch 13/150\n",
            "210/210 - 0s - loss: 0.5006 - accuracy: 0.7886 - val_loss: 0.4913 - val_accuracy: 0.7967\n",
            "Epoch 14/150\n",
            "210/210 - 1s - loss: 0.4881 - accuracy: 0.7981 - val_loss: 0.4681 - val_accuracy: 0.7844\n",
            "Epoch 15/150\n",
            "210/210 - 1s - loss: 0.4777 - accuracy: 0.8005 - val_loss: 0.4722 - val_accuracy: 0.8000\n",
            "Epoch 16/150\n",
            "210/210 - 1s - loss: 0.4695 - accuracy: 0.8052 - val_loss: 0.4538 - val_accuracy: 0.7978\n",
            "Epoch 17/150\n",
            "210/210 - 1s - loss: 0.4628 - accuracy: 0.8067 - val_loss: 0.4399 - val_accuracy: 0.7878\n",
            "Epoch 18/150\n",
            "210/210 - 1s - loss: 0.4585 - accuracy: 0.8100 - val_loss: 0.4343 - val_accuracy: 0.7978\n",
            "Epoch 19/150\n",
            "210/210 - 1s - loss: 0.4526 - accuracy: 0.8100 - val_loss: 0.4375 - val_accuracy: 0.8056\n",
            "Epoch 20/150\n",
            "210/210 - 0s - loss: 0.4467 - accuracy: 0.8129 - val_loss: 0.4272 - val_accuracy: 0.8044\n",
            "Epoch 21/150\n",
            "210/210 - 0s - loss: 0.4427 - accuracy: 0.8152 - val_loss: 0.4418 - val_accuracy: 0.8144\n",
            "Epoch 22/150\n",
            "210/210 - 1s - loss: 0.4390 - accuracy: 0.8138 - val_loss: 0.4275 - val_accuracy: 0.8144\n",
            "Epoch 23/150\n",
            "210/210 - 0s - loss: 0.4373 - accuracy: 0.8181 - val_loss: 0.4208 - val_accuracy: 0.8178\n",
            "Epoch 24/150\n",
            "210/210 - 0s - loss: 0.4340 - accuracy: 0.8162 - val_loss: 0.4133 - val_accuracy: 0.8056\n",
            "Epoch 25/150\n",
            "210/210 - 0s - loss: 0.4322 - accuracy: 0.8190 - val_loss: 0.4179 - val_accuracy: 0.8211\n",
            "Epoch 26/150\n",
            "210/210 - 0s - loss: 0.4306 - accuracy: 0.8210 - val_loss: 0.4179 - val_accuracy: 0.8244\n",
            "Epoch 27/150\n",
            "210/210 - 0s - loss: 0.4286 - accuracy: 0.8200 - val_loss: 0.4194 - val_accuracy: 0.8222\n",
            "Epoch 28/150\n",
            "210/210 - 0s - loss: 0.4269 - accuracy: 0.8257 - val_loss: 0.4087 - val_accuracy: 0.8267\n",
            "Epoch 29/150\n",
            "210/210 - 0s - loss: 0.4253 - accuracy: 0.8205 - val_loss: 0.4072 - val_accuracy: 0.8267\n",
            "Epoch 30/150\n",
            "210/210 - 0s - loss: 0.4230 - accuracy: 0.8233 - val_loss: 0.4116 - val_accuracy: 0.8322\n",
            "Epoch 31/150\n",
            "210/210 - 0s - loss: 0.4206 - accuracy: 0.8262 - val_loss: 0.4150 - val_accuracy: 0.8244\n",
            "Epoch 32/150\n",
            "210/210 - 0s - loss: 0.4204 - accuracy: 0.8281 - val_loss: 0.3998 - val_accuracy: 0.8111\n",
            "Epoch 33/150\n",
            "210/210 - 1s - loss: 0.4189 - accuracy: 0.8267 - val_loss: 0.3991 - val_accuracy: 0.8111\n",
            "Epoch 34/150\n",
            "210/210 - 1s - loss: 0.4184 - accuracy: 0.8281 - val_loss: 0.4161 - val_accuracy: 0.8278\n",
            "Epoch 35/150\n",
            "210/210 - 0s - loss: 0.4179 - accuracy: 0.8286 - val_loss: 0.4028 - val_accuracy: 0.8356\n",
            "Epoch 36/150\n",
            "210/210 - 0s - loss: 0.4174 - accuracy: 0.8290 - val_loss: 0.3957 - val_accuracy: 0.8144\n",
            "Epoch 37/150\n",
            "210/210 - 0s - loss: 0.4141 - accuracy: 0.8290 - val_loss: 0.4150 - val_accuracy: 0.8244\n",
            "Epoch 38/150\n",
            "210/210 - 0s - loss: 0.4149 - accuracy: 0.8333 - val_loss: 0.3942 - val_accuracy: 0.8178\n",
            "Epoch 39/150\n",
            "210/210 - 0s - loss: 0.4142 - accuracy: 0.8333 - val_loss: 0.3988 - val_accuracy: 0.8389\n",
            "Epoch 40/150\n",
            "210/210 - 0s - loss: 0.4132 - accuracy: 0.8300 - val_loss: 0.4006 - val_accuracy: 0.8367\n",
            "Epoch 41/150\n",
            "210/210 - 0s - loss: 0.4113 - accuracy: 0.8300 - val_loss: 0.3921 - val_accuracy: 0.8178\n",
            "Epoch 42/150\n",
            "210/210 - 0s - loss: 0.4131 - accuracy: 0.8305 - val_loss: 0.3944 - val_accuracy: 0.8411\n",
            "Epoch 43/150\n",
            "210/210 - 1s - loss: 0.4106 - accuracy: 0.8310 - val_loss: 0.3940 - val_accuracy: 0.8411\n",
            "Epoch 44/150\n",
            "210/210 - 0s - loss: 0.4115 - accuracy: 0.8305 - val_loss: 0.3925 - val_accuracy: 0.8411\n",
            "Epoch 45/150\n",
            "210/210 - 0s - loss: 0.4093 - accuracy: 0.8357 - val_loss: 0.4076 - val_accuracy: 0.8311\n",
            "Epoch 46/150\n",
            "210/210 - 0s - loss: 0.4088 - accuracy: 0.8343 - val_loss: 0.3980 - val_accuracy: 0.8367\n",
            "Epoch 47/150\n",
            "210/210 - 0s - loss: 0.4072 - accuracy: 0.8295 - val_loss: 0.4145 - val_accuracy: 0.8233\n",
            "Epoch 48/150\n",
            "210/210 - 1s - loss: 0.4100 - accuracy: 0.8319 - val_loss: 0.3901 - val_accuracy: 0.8433\n",
            "Epoch 49/150\n",
            "210/210 - 0s - loss: 0.4068 - accuracy: 0.8310 - val_loss: 0.3913 - val_accuracy: 0.8444\n",
            "Epoch 50/150\n",
            "210/210 - 0s - loss: 0.4071 - accuracy: 0.8333 - val_loss: 0.3874 - val_accuracy: 0.8411\n",
            "Epoch 51/150\n",
            "210/210 - 0s - loss: 0.4073 - accuracy: 0.8348 - val_loss: 0.3950 - val_accuracy: 0.8344\n",
            "Epoch 52/150\n",
            "210/210 - 0s - loss: 0.4061 - accuracy: 0.8338 - val_loss: 0.3859 - val_accuracy: 0.8433\n",
            "Epoch 53/150\n",
            "210/210 - 0s - loss: 0.4057 - accuracy: 0.8329 - val_loss: 0.3877 - val_accuracy: 0.8433\n",
            "Epoch 54/150\n",
            "210/210 - 1s - loss: 0.4059 - accuracy: 0.8310 - val_loss: 0.3850 - val_accuracy: 0.8433\n",
            "Epoch 55/150\n",
            "210/210 - 0s - loss: 0.4037 - accuracy: 0.8367 - val_loss: 0.3858 - val_accuracy: 0.8433\n",
            "Epoch 56/150\n",
            "210/210 - 1s - loss: 0.4043 - accuracy: 0.8343 - val_loss: 0.3865 - val_accuracy: 0.8378\n",
            "Epoch 57/150\n",
            "210/210 - 0s - loss: 0.4035 - accuracy: 0.8338 - val_loss: 0.3808 - val_accuracy: 0.8422\n",
            "Epoch 58/150\n",
            "210/210 - 1s - loss: 0.4019 - accuracy: 0.8324 - val_loss: 0.3799 - val_accuracy: 0.8422\n",
            "Epoch 59/150\n",
            "210/210 - 0s - loss: 0.4011 - accuracy: 0.8329 - val_loss: 0.3795 - val_accuracy: 0.8444\n",
            "Epoch 60/150\n",
            "210/210 - 0s - loss: 0.4011 - accuracy: 0.8362 - val_loss: 0.3762 - val_accuracy: 0.8389\n",
            "Epoch 61/150\n",
            "210/210 - 0s - loss: 0.4001 - accuracy: 0.8338 - val_loss: 0.3824 - val_accuracy: 0.8411\n",
            "Epoch 62/150\n",
            "210/210 - 1s - loss: 0.3993 - accuracy: 0.8329 - val_loss: 0.3809 - val_accuracy: 0.8422\n",
            "Epoch 63/150\n",
            "210/210 - 0s - loss: 0.3983 - accuracy: 0.8314 - val_loss: 0.3974 - val_accuracy: 0.8356\n",
            "Epoch 64/150\n",
            "210/210 - 0s - loss: 0.4000 - accuracy: 0.8362 - val_loss: 0.3810 - val_accuracy: 0.8400\n",
            "Epoch 65/150\n",
            "210/210 - 0s - loss: 0.4001 - accuracy: 0.8348 - val_loss: 0.3798 - val_accuracy: 0.8400\n",
            "Epoch 66/150\n",
            "210/210 - 0s - loss: 0.4000 - accuracy: 0.8348 - val_loss: 0.3745 - val_accuracy: 0.8400\n",
            "Epoch 67/150\n",
            "210/210 - 0s - loss: 0.3993 - accuracy: 0.8329 - val_loss: 0.3746 - val_accuracy: 0.8467\n",
            "Epoch 68/150\n",
            "210/210 - 0s - loss: 0.3975 - accuracy: 0.8352 - val_loss: 0.3765 - val_accuracy: 0.8422\n",
            "Epoch 69/150\n",
            "210/210 - 0s - loss: 0.3991 - accuracy: 0.8305 - val_loss: 0.3815 - val_accuracy: 0.8411\n",
            "Epoch 70/150\n",
            "210/210 - 1s - loss: 0.3978 - accuracy: 0.8352 - val_loss: 0.3771 - val_accuracy: 0.8433\n",
            "Epoch 71/150\n",
            "210/210 - 1s - loss: 0.3955 - accuracy: 0.8371 - val_loss: 0.3764 - val_accuracy: 0.8444\n",
            "Epoch 72/150\n",
            "210/210 - 0s - loss: 0.3962 - accuracy: 0.8343 - val_loss: 0.3719 - val_accuracy: 0.8444\n",
            "Epoch 73/150\n",
            "210/210 - 0s - loss: 0.3978 - accuracy: 0.8343 - val_loss: 0.3711 - val_accuracy: 0.8300\n",
            "Epoch 74/150\n",
            "210/210 - 0s - loss: 0.3953 - accuracy: 0.8367 - val_loss: 0.3832 - val_accuracy: 0.8411\n",
            "Epoch 75/150\n",
            "210/210 - 1s - loss: 0.3963 - accuracy: 0.8329 - val_loss: 0.3770 - val_accuracy: 0.8433\n",
            "Epoch 76/150\n",
            "210/210 - 1s - loss: 0.3952 - accuracy: 0.8343 - val_loss: 0.3761 - val_accuracy: 0.8456\n",
            "Epoch 77/150\n",
            "210/210 - 1s - loss: 0.3943 - accuracy: 0.8348 - val_loss: 0.3687 - val_accuracy: 0.8433\n",
            "Epoch 78/150\n",
            "210/210 - 0s - loss: 0.3936 - accuracy: 0.8367 - val_loss: 0.3694 - val_accuracy: 0.8433\n",
            "Epoch 79/150\n",
            "210/210 - 0s - loss: 0.3944 - accuracy: 0.8352 - val_loss: 0.3811 - val_accuracy: 0.8411\n",
            "Epoch 80/150\n",
            "210/210 - 1s - loss: 0.3937 - accuracy: 0.8310 - val_loss: 0.3706 - val_accuracy: 0.8478\n",
            "Epoch 81/150\n",
            "210/210 - 0s - loss: 0.3931 - accuracy: 0.8357 - val_loss: 0.3705 - val_accuracy: 0.8489\n",
            "Epoch 82/150\n",
            "210/210 - 0s - loss: 0.3940 - accuracy: 0.8338 - val_loss: 0.3662 - val_accuracy: 0.8367\n",
            "Epoch 83/150\n",
            "210/210 - 0s - loss: 0.3934 - accuracy: 0.8348 - val_loss: 0.3672 - val_accuracy: 0.8444\n",
            "Epoch 84/150\n",
            "210/210 - 0s - loss: 0.3937 - accuracy: 0.8305 - val_loss: 0.3696 - val_accuracy: 0.8500\n",
            "Epoch 85/150\n",
            "210/210 - 0s - loss: 0.3932 - accuracy: 0.8319 - val_loss: 0.3674 - val_accuracy: 0.8456\n",
            "Epoch 86/150\n",
            "210/210 - 1s - loss: 0.3913 - accuracy: 0.8357 - val_loss: 0.3746 - val_accuracy: 0.8444\n",
            "Epoch 87/150\n",
            "210/210 - 0s - loss: 0.3914 - accuracy: 0.8324 - val_loss: 0.3647 - val_accuracy: 0.8456\n",
            "Epoch 88/150\n",
            "210/210 - 0s - loss: 0.3911 - accuracy: 0.8348 - val_loss: 0.3771 - val_accuracy: 0.8444\n",
            "Epoch 89/150\n",
            "210/210 - 0s - loss: 0.3916 - accuracy: 0.8338 - val_loss: 0.3658 - val_accuracy: 0.8456\n",
            "Epoch 90/150\n",
            "210/210 - 1s - loss: 0.3904 - accuracy: 0.8371 - val_loss: 0.3645 - val_accuracy: 0.8389\n",
            "Epoch 91/150\n",
            "210/210 - 0s - loss: 0.3882 - accuracy: 0.8319 - val_loss: 0.3674 - val_accuracy: 0.8467\n",
            "Epoch 92/150\n",
            "210/210 - 0s - loss: 0.3895 - accuracy: 0.8324 - val_loss: 0.3862 - val_accuracy: 0.8400\n",
            "Epoch 93/150\n",
            "210/210 - 0s - loss: 0.3912 - accuracy: 0.8310 - val_loss: 0.3621 - val_accuracy: 0.8444\n",
            "Epoch 94/150\n",
            "210/210 - 0s - loss: 0.3895 - accuracy: 0.8395 - val_loss: 0.3635 - val_accuracy: 0.8467\n",
            "Epoch 95/150\n",
            "210/210 - 0s - loss: 0.3903 - accuracy: 0.8343 - val_loss: 0.3629 - val_accuracy: 0.8400\n",
            "Epoch 96/150\n",
            "210/210 - 1s - loss: 0.3905 - accuracy: 0.8338 - val_loss: 0.3636 - val_accuracy: 0.8467\n",
            "Epoch 97/150\n",
            "210/210 - 0s - loss: 0.3886 - accuracy: 0.8348 - val_loss: 0.3668 - val_accuracy: 0.8511\n",
            "Epoch 98/150\n",
            "210/210 - 1s - loss: 0.3900 - accuracy: 0.8338 - val_loss: 0.3613 - val_accuracy: 0.8378\n",
            "Epoch 99/150\n",
            "210/210 - 1s - loss: 0.3894 - accuracy: 0.8348 - val_loss: 0.3614 - val_accuracy: 0.8478\n",
            "Epoch 100/150\n",
            "210/210 - 0s - loss: 0.3885 - accuracy: 0.8376 - val_loss: 0.3662 - val_accuracy: 0.8200\n",
            "Epoch 101/150\n",
            "210/210 - 1s - loss: 0.3889 - accuracy: 0.8329 - val_loss: 0.3679 - val_accuracy: 0.8478\n",
            "Epoch 102/150\n",
            "210/210 - 0s - loss: 0.3879 - accuracy: 0.8310 - val_loss: 0.3722 - val_accuracy: 0.8467\n",
            "Epoch 103/150\n",
            "210/210 - 0s - loss: 0.3874 - accuracy: 0.8333 - val_loss: 0.3576 - val_accuracy: 0.8478\n",
            "Epoch 104/150\n",
            "210/210 - 1s - loss: 0.3884 - accuracy: 0.8352 - val_loss: 0.3617 - val_accuracy: 0.8500\n",
            "Epoch 105/150\n",
            "210/210 - 1s - loss: 0.3869 - accuracy: 0.8348 - val_loss: 0.3611 - val_accuracy: 0.8478\n",
            "Epoch 106/150\n",
            "210/210 - 1s - loss: 0.3895 - accuracy: 0.8362 - val_loss: 0.3590 - val_accuracy: 0.8444\n",
            "Epoch 107/150\n",
            "210/210 - 1s - loss: 0.3850 - accuracy: 0.8362 - val_loss: 0.3588 - val_accuracy: 0.8400\n",
            "Epoch 108/150\n",
            "210/210 - 0s - loss: 0.3872 - accuracy: 0.8329 - val_loss: 0.3588 - val_accuracy: 0.8400\n",
            "Epoch 109/150\n",
            "210/210 - 0s - loss: 0.3865 - accuracy: 0.8333 - val_loss: 0.3613 - val_accuracy: 0.8478\n",
            "Epoch 110/150\n",
            "210/210 - 0s - loss: 0.3862 - accuracy: 0.8367 - val_loss: 0.3580 - val_accuracy: 0.8478\n",
            "Epoch 111/150\n",
            "210/210 - 0s - loss: 0.3859 - accuracy: 0.8362 - val_loss: 0.3582 - val_accuracy: 0.8478\n",
            "Epoch 112/150\n",
            "210/210 - 1s - loss: 0.3860 - accuracy: 0.8324 - val_loss: 0.3594 - val_accuracy: 0.8467\n",
            "Epoch 113/150\n",
            "210/210 - 0s - loss: 0.3857 - accuracy: 0.8348 - val_loss: 0.3580 - val_accuracy: 0.8422\n",
            "Epoch 114/150\n",
            "210/210 - 0s - loss: 0.3850 - accuracy: 0.8357 - val_loss: 0.3575 - val_accuracy: 0.8400\n",
            "Epoch 115/150\n",
            "210/210 - 0s - loss: 0.3843 - accuracy: 0.8376 - val_loss: 0.3624 - val_accuracy: 0.8533\n",
            "Epoch 116/150\n",
            "210/210 - 0s - loss: 0.3852 - accuracy: 0.8329 - val_loss: 0.3579 - val_accuracy: 0.8478\n",
            "Epoch 117/150\n",
            "210/210 - 0s - loss: 0.3864 - accuracy: 0.8319 - val_loss: 0.3575 - val_accuracy: 0.8400\n",
            "Epoch 118/150\n",
            "210/210 - 0s - loss: 0.3847 - accuracy: 0.8352 - val_loss: 0.3637 - val_accuracy: 0.8533\n",
            "Epoch 119/150\n",
            "210/210 - 0s - loss: 0.3828 - accuracy: 0.8376 - val_loss: 0.3569 - val_accuracy: 0.8478\n",
            "Epoch 120/150\n",
            "210/210 - 0s - loss: 0.3842 - accuracy: 0.8343 - val_loss: 0.3546 - val_accuracy: 0.8467\n",
            "Epoch 121/150\n",
            "210/210 - 0s - loss: 0.3827 - accuracy: 0.8329 - val_loss: 0.3560 - val_accuracy: 0.8422\n",
            "Epoch 122/150\n",
            "210/210 - 0s - loss: 0.3822 - accuracy: 0.8371 - val_loss: 0.3643 - val_accuracy: 0.8500\n",
            "Epoch 123/150\n",
            "210/210 - 0s - loss: 0.3836 - accuracy: 0.8357 - val_loss: 0.3612 - val_accuracy: 0.8544\n",
            "Epoch 124/150\n",
            "210/210 - 0s - loss: 0.3822 - accuracy: 0.8357 - val_loss: 0.3608 - val_accuracy: 0.8500\n",
            "Epoch 125/150\n",
            "210/210 - 0s - loss: 0.3808 - accuracy: 0.8329 - val_loss: 0.3595 - val_accuracy: 0.8489\n",
            "Epoch 126/150\n",
            "210/210 - 0s - loss: 0.3784 - accuracy: 0.8381 - val_loss: 0.3561 - val_accuracy: 0.8467\n",
            "Epoch 127/150\n",
            "210/210 - 0s - loss: 0.3765 - accuracy: 0.8352 - val_loss: 0.3576 - val_accuracy: 0.8511\n",
            "Epoch 128/150\n",
            "210/210 - 0s - loss: 0.3754 - accuracy: 0.8362 - val_loss: 0.3554 - val_accuracy: 0.8411\n",
            "Epoch 129/150\n",
            "210/210 - 1s - loss: 0.3750 - accuracy: 0.8362 - val_loss: 0.3568 - val_accuracy: 0.8378\n",
            "Epoch 130/150\n",
            "210/210 - 0s - loss: 0.3739 - accuracy: 0.8352 - val_loss: 0.3589 - val_accuracy: 0.8500\n",
            "Epoch 131/150\n",
            "210/210 - 1s - loss: 0.3754 - accuracy: 0.8410 - val_loss: 0.3582 - val_accuracy: 0.8467\n",
            "Epoch 132/150\n",
            "210/210 - 1s - loss: 0.3729 - accuracy: 0.8357 - val_loss: 0.3575 - val_accuracy: 0.8389\n",
            "Epoch 133/150\n",
            "210/210 - 0s - loss: 0.3732 - accuracy: 0.8367 - val_loss: 0.3611 - val_accuracy: 0.8489\n",
            "Epoch 134/150\n",
            "210/210 - 0s - loss: 0.3712 - accuracy: 0.8381 - val_loss: 0.3568 - val_accuracy: 0.8400\n",
            "Epoch 135/150\n",
            "210/210 - 1s - loss: 0.3716 - accuracy: 0.8390 - val_loss: 0.3624 - val_accuracy: 0.8489\n",
            "Epoch 136/150\n",
            "210/210 - 0s - loss: 0.3717 - accuracy: 0.8386 - val_loss: 0.3603 - val_accuracy: 0.8500\n",
            "Epoch 137/150\n",
            "210/210 - 0s - loss: 0.3700 - accuracy: 0.8405 - val_loss: 0.3568 - val_accuracy: 0.8456\n",
            "Epoch 138/150\n",
            "210/210 - 0s - loss: 0.3714 - accuracy: 0.8386 - val_loss: 0.3622 - val_accuracy: 0.8478\n",
            "Epoch 139/150\n",
            "210/210 - 0s - loss: 0.3691 - accuracy: 0.8429 - val_loss: 0.3547 - val_accuracy: 0.8456\n",
            "Epoch 140/150\n",
            "210/210 - 0s - loss: 0.3706 - accuracy: 0.8371 - val_loss: 0.3624 - val_accuracy: 0.8511\n",
            "Epoch 141/150\n",
            "210/210 - 1s - loss: 0.3706 - accuracy: 0.8414 - val_loss: 0.3621 - val_accuracy: 0.8489\n",
            "Epoch 142/150\n",
            "210/210 - 0s - loss: 0.3710 - accuracy: 0.8390 - val_loss: 0.3622 - val_accuracy: 0.8522\n",
            "Epoch 143/150\n",
            "210/210 - 0s - loss: 0.3706 - accuracy: 0.8357 - val_loss: 0.3586 - val_accuracy: 0.8467\n",
            "Epoch 144/150\n",
            "210/210 - 1s - loss: 0.3712 - accuracy: 0.8400 - val_loss: 0.3630 - val_accuracy: 0.8500\n",
            "Epoch 145/150\n",
            "210/210 - 1s - loss: 0.3700 - accuracy: 0.8400 - val_loss: 0.3578 - val_accuracy: 0.8489\n",
            "Epoch 146/150\n",
            "210/210 - 0s - loss: 0.3692 - accuracy: 0.8405 - val_loss: 0.3693 - val_accuracy: 0.8456\n",
            "Epoch 147/150\n",
            "210/210 - 0s - loss: 0.3707 - accuracy: 0.8400 - val_loss: 0.3617 - val_accuracy: 0.8467\n",
            "Epoch 148/150\n",
            "210/210 - 0s - loss: 0.3688 - accuracy: 0.8381 - val_loss: 0.3624 - val_accuracy: 0.8478\n",
            "Epoch 149/150\n",
            "210/210 - 0s - loss: 0.3691 - accuracy: 0.8371 - val_loss: 0.3551 - val_accuracy: 0.8433\n",
            "Epoch 150/150\n",
            "210/210 - 1s - loss: 0.3686 - accuracy: 0.8390 - val_loss: 0.3615 - val_accuracy: 0.8489\n",
            "94/94 [==============================] - 0s 2ms/step - loss: 0.3654 - accuracy: 0.8430\n",
            "\n",
            "accuracy: 84.30%\n"
          ],
          "name": "stdout"
        }
      ]
    },
    {
      "cell_type": "code",
      "metadata": {
        "id": "e8HuOlejSwW3",
        "colab_type": "code",
        "colab": {
          "base_uri": "https://localhost:8080/",
          "height": 35
        },
        "outputId": "407dc162-b9bc-4794-8eda-a9e2ac117e2f"
      },
      "source": [
        "# Test the trained model\n",
        "test_pred_colors = model.predict(test_in_colors)\n",
        "\n",
        "# Prediction are in probabilities. Round them to convert into binary sequence\n",
        "test_pred_colors = np.around(test_pred_colors)\n",
        "\n",
        "# Print accuracy score\n",
        "accuracy_score(test_out_colors, test_pred_colors)"
      ],
      "execution_count": 27,
      "outputs": [
        {
          "output_type": "execute_result",
          "data": {
            "text/plain": [
              "0.856"
            ]
          },
          "metadata": {
            "tags": []
          },
          "execution_count": 27
        }
      ]
    },
    {
      "cell_type": "code",
      "metadata": {
        "id": "Gr0BCZqKoOI8",
        "colab_type": "code",
        "colab": {
          "base_uri": "https://localhost:8080/",
          "height": 35
        },
        "outputId": "028a0e80-8e13-49a4-e845-760e6f2ad03c"
      },
      "source": [
        "model_info.history.keys()\n",
        "# Possible outputs:\n",
        "# (1) dict_keys(['loss', 'accuracy', 'val_loss', 'val_accuracy'])\n",
        "# or\n",
        "# (2) dict_keys(['loss', 'acc', 'val_loss', 'val_acc'])"
      ],
      "execution_count": 28,
      "outputs": [
        {
          "output_type": "execute_result",
          "data": {
            "text/plain": [
              "dict_keys(['loss', 'accuracy', 'val_loss', 'val_accuracy'])"
            ]
          },
          "metadata": {
            "tags": []
          },
          "execution_count": 28
        }
      ]
    },
    {
      "cell_type": "code",
      "metadata": {
        "id": "8mL19io-TbL7",
        "colab_type": "code",
        "colab": {}
      },
      "source": [
        "# acckey, valacckey replaced by accuracy and val_accuracy\n",
        "# You have to use the right one for your version\n",
        "\n",
        "acckey = 'accuracy'\n",
        "valacckey = 'val_accuracy'\n",
        "#acckey = 'acc'\n",
        "#valacckey = 'val_acc'"
      ],
      "execution_count": 29,
      "outputs": []
    },
    {
      "cell_type": "code",
      "metadata": {
        "id": "-JACOqRiTUeT",
        "colab_type": "code",
        "colab": {
          "base_uri": "https://localhost:8080/",
          "height": 350
        },
        "outputId": "2489c1a8-83c3-4f26-a9ed-74d3b3801e96"
      },
      "source": [
        "# Plot Accuracy and/or Loss as a Function of Number of Epoch\n",
        "\n",
        "def plot_model_history(model_history):\n",
        "    fig, axs = plt.subplots(1,2,figsize=(15,5))\n",
        "    # summarize history for accuracy\n",
        "    axs[0].plot(range(1,len(model_history.history[acckey])+1),model_history.history[acckey])\n",
        "    axs[0].plot(range(1,len(model_history.history[valacckey])+1),model_history.history[valacckey])\n",
        "    axs[0].set_title('Model Accuracy')\n",
        "    axs[0].set_ylabel('Accuracy')\n",
        "    axs[0].set_xlabel('Epoch')\n",
        "    axs[0].get_xaxis().set_minor_locator(mpl.ticker.AutoMinorLocator())\n",
        "    axs[0].get_yaxis().set_minor_locator(mpl.ticker.AutoMinorLocator())\n",
        "    axs[0].legend(['train', 'val'], loc='best')\n",
        "    # axs[0].tick_params(top=True, right=True, labeltop=True, labelright=True, which='both')\n",
        "    \n",
        "    # summarize history for loss\n",
        "    axs[1].plot(range(1,len(model_history.history['loss'])+1),model_history.history['loss'])\n",
        "    axs[1].plot(range(1,len(model_history.history['val_loss'])+1),model_history.history['val_loss'])\n",
        "    axs[1].set_title('Model Loss')\n",
        "    axs[1].set_ylabel('Loss')\n",
        "    axs[1].set_xlabel('Epoch')\n",
        "    axs[1].get_xaxis().set_minor_locator(mpl.ticker.AutoMinorLocator())\n",
        "    axs[1].get_yaxis().set_minor_locator(mpl.ticker.AutoMinorLocator())\n",
        "    axs[1].legend(['train', 'val'], loc='best')\n",
        "    plt.show()\n",
        "    \n",
        "plot_model_history(model_info)"
      ],
      "execution_count": 30,
      "outputs": [
        {
          "output_type": "display_data",
          "data": {
            "image/png": "[encoded data removed]",
            "text/plain": [
              "<Figure size 1080x360 with 2 Axes>"
            ]
          },
          "metadata": {
            "tags": [],
            "needs_background": "light"
          }
        }
      ]
    },
    {
      "cell_type": "code",
      "metadata": {
        "id": "-WP6WXYYTpWD",
        "colab_type": "code",
        "colab": {
          "base_uri": "https://localhost:8080/",
          "height": 69
        },
        "outputId": "920ec5c6-7f51-4fa5-8d45-e4041fa9bb60"
      },
      "source": [
        "# Use 10-fold cross validation for shuffling the validation sample\n",
        "kfold = StratifiedKFold(n_splits=2, shuffle=True, random_state=seed)\n",
        "cvscores = []\n",
        "for train, test in kfold.split(train_in_colors, train_out_colors):\n",
        "  # create model\n",
        "    model = Sequential()\n",
        "    model.add(Dense(8, input_dim=4, activation='relu'))\n",
        "    model.add(Dense(3, activation='relu'))\n",
        "    model.add(Dense(1, activation='sigmoid'))\n",
        "    # Compile model\n",
        "    model.compile(loss='binary_crossentropy', optimizer='adam', metrics=['accuracy'])\n",
        "    # Fit the model\n",
        "    model.fit(train_in_colors[train], train_out_colors[train], epochs=150, batch_size=10, verbose=0)\n",
        "    # evaluate the model\n",
        "    scores = model.evaluate(train_in_colors[test], train_out_colors[test], verbose=0)\n",
        "    print(\"%s: %.2f%%\" % (model.metrics_names[1], scores[1]*100))\n",
        "    cvscores.append(scores[1] * 100)\n",
        "print(\"%.2f%% (+/- %.2f%%)\" % (np.mean(cvscores), np.std(cvscores)))"
      ],
      "execution_count": 31,
      "outputs": [
        {
          "output_type": "stream",
          "text": [
            "accuracy: 50.00%\n",
            "accuracy: 85.73%\n",
            "67.87% (+/- 17.87%)\n"
          ],
          "name": "stdout"
        }
      ]
    },
    {
      "cell_type": "code",
      "metadata": {
        "id": "Yw4PdN_4UYLH",
        "colab_type": "code",
        "colab": {
          "base_uri": "https://localhost:8080/",
          "height": 35
        },
        "outputId": "a98e4ba1-0d1e-409a-ca00-a1e3c279fc36"
      },
      "source": [
        "# Test the trained model\n",
        "test_pred_colors = model.predict(test_in_colors)\n",
        "\n",
        "# Prediction are in probabilities. Round them to convert into binary sequence\n",
        "test_pred_colors = np.around(test_pred_colors)\n",
        "\n",
        "# Print accuracy score\n",
        "accuracy_score(test_out_colors, test_pred_colors)"
      ],
      "execution_count": 32,
      "outputs": [
        {
          "output_type": "execute_result",
          "data": {
            "text/plain": [
              "0.868"
            ]
          },
          "metadata": {
            "tags": []
          },
          "execution_count": 32
        }
      ]
    },
    {
      "cell_type": "markdown",
      "metadata": {
        "id": "qO6lLcmmVutY",
        "colab_type": "text"
      },
      "source": [
        "# Exercise 2: Using Convolutional Neural network on images of galaxies for Ellipticals Spirals classification"
      ]
    },
    {
      "cell_type": "code",
      "metadata": {
        "id": "YucFbkGTVxfU",
        "colab_type": "code",
        "colab": {}
      },
      "source": [
        "# We are using keras framework with tensorflow as the backend\n",
        "# Convolutional Neural Networks are multi-layer neural networks that assume the input data to be images.\n",
        "\n",
        "# Sequential is simply a linear stack of neural network layers, and it's perfect for the type of \n",
        "# feed-forward CNN\n",
        "from tensorflow.keras.models import Sequential\n",
        "\n",
        "# Import the core layers from Keras which are used in almost any neural network\n",
        "from tensorflow.keras.layers import Dense, Flatten\n",
        "\n",
        "# Import CNN layers from Keras that will help us efficiently train on image data\n",
        "from tensorflow.keras.layers import Conv2D, MaxPooling2D\n",
        "\n",
        "# Helps to preprocess the images\n",
        "from tensorflow.keras.preprocessing.image import ImageDataGenerator"
      ],
      "execution_count": 33,
      "outputs": []
    },
    {
      "cell_type": "code",
      "metadata": {
        "id": "-MRRsgq2V18n",
        "colab_type": "code",
        "colab": {}
      },
      "source": [
        "# Create your model\n",
        "model = Sequential()\n",
        "\n",
        "# Add first convolutional layer. A full-color image with all 3 RGB channels will have a depth of 3.\n",
        "model.add(Conv2D(32, (3, 3), input_shape = (64, 64, 3), activation = 'relu'))\n",
        "\n",
        "# Define the maxpooling layer\n",
        "model.add(MaxPooling2D(pool_size=(2, 2), data_format=\"channels_first\"))\n",
        "\n",
        "# Layer which Flatten the data\n",
        "model.add(Flatten())\n",
        "\n",
        "# Add more layers to the network\n",
        "model.add(Dense(units = 128, activation = 'relu'))\n",
        "model.add(Dense(units = 1, activation = 'sigmoid'))\n",
        "\n",
        "# We need to compile the model. Declare the loss function and the optimizer (SGD, Adam, etc.).\n",
        "model.compile(optimizer = 'adam', loss = 'binary_crossentropy', metrics = ['accuracy'])"
      ],
      "execution_count": 34,
      "outputs": []
    },
    {
      "cell_type": "code",
      "metadata": {
        "id": "Ej026OHFV5iY",
        "colab_type": "code",
        "colab": {
          "base_uri": "https://localhost:8080/",
          "height": 52
        },
        "outputId": "308a9bf4-8c11-4d8b-ff1d-a3bd975a9847"
      },
      "source": [
        "# Preprocess the images\n",
        "train_datagen = ImageDataGenerator(rescale = 1./255, shear_range = 0.2, zoom_range = 0.2, horizontal_flip = True)\n",
        "test_datagen = ImageDataGenerator(rescale = 1./255)\n",
        "\n",
        "# Define the training and test set\n",
        "training_set = train_datagen.flow_from_directory(datapath + 'Training', target_size = (64, 64), batch_size = 32, class_mode = 'binary')\n",
        "test_set = test_datagen.flow_from_directory(datapath + 'Testing',target_size = (64, 64), batch_size = 32, class_mode = 'binary')"
      ],
      "execution_count": 35,
      "outputs": [
        {
          "output_type": "stream",
          "text": [
            "Found 1470 images belonging to 2 classes.\n",
            "Found 630 images belonging to 2 classes.\n"
          ],
          "name": "stdout"
        }
      ]
    },
    {
      "cell_type": "code",
      "metadata": {
        "id": "iRPujgh5WC14",
        "colab_type": "code",
        "colab": {
          "base_uri": "https://localhost:8080/",
          "height": 141
        },
        "outputId": "e103a0f0-a067-4c70-ed8a-03d6f29f756d"
      },
      "source": [
        "# Train your model\n",
        "model.fit_generator(training_set, steps_per_epoch = 20, epochs = 2, validation_data = test_set, validation_steps = 100)"
      ],
      "execution_count": 36,
      "outputs": [
        {
          "output_type": "stream",
          "text": [
            "Epoch 1/2\n",
            "20/20 [==============================] - ETA: 0s - loss: 0.5257 - accuracy: 0.7781WARNING:tensorflow:Your input ran out of data; interrupting training. Make sure that your dataset or generator can generate at least `steps_per_epoch * epochs` batches (in this case, 100 batches). You may need to use the repeat() function when building your dataset.\n",
            "20/20 [==============================] - 238s 12s/step - loss: 0.5257 - accuracy: 0.7781 - val_loss: 0.3329 - val_accuracy: 0.8635\n",
            "Epoch 2/2\n",
            "20/20 [==============================] - 37s 2s/step - loss: 0.4025 - accuracy: 0.8323\n"
          ],
          "name": "stdout"
        },
        {
          "output_type": "execute_result",
          "data": {
            "text/plain": [
              "<tensorflow.python.keras.callbacks.History at 0x7faf2c0fcc50>"
            ]
          },
          "metadata": {
            "tags": []
          },
          "execution_count": 36
        }
      ]
    },
    {
      "cell_type": "code",
      "metadata": {
        "id": "nK7YKOk1WIlY",
        "colab_type": "code",
        "colab": {}
      },
      "source": [
        ""
      ],
      "execution_count": null,
      "outputs": []
    }
  ]
}